{
 "cells": [
  {
   "cell_type": "code",
   "execution_count": 103,
   "metadata": {},
   "outputs": [],
   "source": [
    "from bs4 import BeautifulSoup\n",
    "import requests\n",
    "from requests.compat import urljoin\n",
    "import re\n",
    "import time\n",
    "import os"
   ]
  },
  {
   "cell_type": "code",
   "execution_count": 104,
   "metadata": {},
   "outputs": [],
   "source": [
    "base_url = \"https://setopati.com/\"\n",
    "news = [\n",
    "    \"politics\",\n",
    "    \"social\",\n",
    "    \"opinion\",\n",
    "    \"kinmel\",\n",
    "    \"entertainment\",\n",
    "    \"sports\",\n",
    "    \"ghumphir\",\n",
    "    \"literature\",\n",
    "    'global',\n",
    "    'setopati-blog'\n",
    "]"
   ]
  },
  {
   "cell_type": "code",
   "execution_count": 155,
   "metadata": {},
   "outputs": [],
   "source": [
    "def extract_and_save(link,category):\n",
    "    content = requests.get(link).content\n",
    "    tree = BeautifulSoup(content,\"lxml\")\n",
    "    news_text = tree.find(\"div\",{\"class\":\"entry-content\"})\n",
    "    print([i.text for i in news_text.find_all('p')])\n",
    "    file_name = os.path.join(category,re.findall(r\"\\d+\",link)[0])\n",
    "    with open(file_name,\"w\") as file:\n",
    "        file.writeline([i.text for i in news_text.find_all('p')])"
   ]
  },
  {
   "cell_type": "code",
   "execution_count": 156,
   "metadata": {},
   "outputs": [],
   "source": [
    "def parseSetoPati(category):\n",
    "    if not os.path.isdir(category):\n",
    "        os.mkdir(category)\n",
    "    #Setopati apparently only gives 9 pages of news for each categority\n",
    "    #There is not p|age 10 url and in ajax pagination, page 1 is repeated after page 9\n",
    "    pages = [base_url+category+\"/\"+\"page/\"+str(i) for i in range(1,10)]\n",
    "    print(pages)\n",
    "    cat_links = set()\n",
    "    for i in pages:\n",
    "        print(\"Current Page: \"+i)\n",
    "        content = requests.get(i).text\n",
    "        tree = BeautifulSoup(content,\"lxml\")\n",
    "        #Isolate News Section\n",
    "        try:\n",
    "            news_section = tree.find_all(\"div\",{\"id\":\"category_page\"})[0]\n",
    "            #Extract News from their titles\n",
    "            titles = news_section.find_all(\"h2\",{\"class\":\"entry-title\"})\n",
    "            #Extract Links and Prevent repeatition\n",
    "            current_links = set()\n",
    "            current_links.update([i.a[\"href\"] for i in titles if i.a['href'] not in cat_links] )\n",
    "            cat_links.update(current_links)\n",
    "            #Parse Links\n",
    "            for link in current_links:\n",
    "                extract_and_save(link,category)\n",
    "        except IndexError:\n",
    "            print(\"No more pages remaining to parse in this category\")\n",
    "            break\n"
   ]
  },
  {
   "cell_type": "code",
   "execution_count": 157,
   "metadata": {},
   "outputs": [
    {
     "name": "stdout",
     "output_type": "stream",
     "text": [
      "['https://setopati.com/politics/page/1', 'https://setopati.com/politics/page/2', 'https://setopati.com/politics/page/3', 'https://setopati.com/politics/page/4', 'https://setopati.com/politics/page/5', 'https://setopati.com/politics/page/6', 'https://setopati.com/politics/page/7', 'https://setopati.com/politics/page/8', 'https://setopati.com/politics/page/9']\n",
      "Current Page: https://setopati.com/politics/page/1\n",
      "['नेकपा एमाले र माओवादी केन्द्र मिलेर नयाँ बन्ने पार्टीले आजै ९ सदस्यीय सचिवालय गठन गर्ने भएको छ।', 'बालुवाटारमा बसेको एकता संयोजन समितिको बैठकले नयाँ पार्टी सञ्चालनका लागि ९ सदस्यीय सचिवालय गठन गर्ने निर्णय गरेको एमाले महासचिव तथा रक्षामन्त्री ईश्वर पोखरेलले जानकारी दिए।', 'उनका अनुसार एकीकृत पार्टीको केन्द्रीय कार्यालयबारे भने निर्णय भइसकेको छैन।', '‘हामी बैठक बसेर त्यसको पनि टुंगो लगाउँछौं,’ पोखरेलले भने।', 'उनले आज दर्ता हुने नयाँ\\xa0 पार्टीको नाम नेपाल कम्युनिष्ट पार्टी हुने बताए।', '‘हामीले नेपाल कम्युनिष्ट पार्टी नाम राखेर दल दर्ता गर्छौं,’ उनले भने।', '‘नेपाल कम्युनिष्ट पार्टी’ भने पहिला नै निर्वाचन आयोगमा दर्ता\\xa0 छ।', 'ऋषिराम कट्टेल अध्यक्ष रहेको\\xa0 नेपाल कम्युनिष्ट पार्टी गत मंसिर १० र २१ गते भएको निर्वाचनमा ‘घन र कोदालो’\\xa0 चिन्ह लिएर सहभागी भएको थियो।', 'आयोगका अनुसार नेपाल कम्युनिष्ट पार्टी २०४८ साल अघिदेखि नै आयोगमा दर्ता छ।', 'आयोगले प्रतिनिधि सभा निर्वाचनमा सहभागिता लागि दल दर्ता आह्वान गर्दा पनि नेपाल कम्युनिष्ट पार्टी २०७४ साल भदौ १० गते दर्ता भएको थियो।']\n"
     ]
    },
    {
     "ename": "FileNotFoundError",
     "evalue": "[Errno 2] No such file or directory: 'politics/158986'",
     "output_type": "error",
     "traceback": [
      "\u001b[0;31m---------------------------------------------------------------------------\u001b[0m",
      "\u001b[0;31mFileNotFoundError\u001b[0m                         Traceback (most recent call last)",
      "\u001b[0;32m<ipython-input-157-7f62652ca72f>\u001b[0m in \u001b[0;36m<module>\u001b[0;34m()\u001b[0m\n\u001b[1;32m      1\u001b[0m \u001b[0;32mfor\u001b[0m \u001b[0mi\u001b[0m \u001b[0;32min\u001b[0m \u001b[0mnews\u001b[0m\u001b[0;34m:\u001b[0m\u001b[0;34m\u001b[0m\u001b[0m\n\u001b[0;32m----> 2\u001b[0;31m     \u001b[0mparseSetoPati\u001b[0m\u001b[0;34m(\u001b[0m\u001b[0mi\u001b[0m\u001b[0;34m)\u001b[0m\u001b[0;34m\u001b[0m\u001b[0m\n\u001b[0m",
      "\u001b[0;32m<ipython-input-156-9c927d753db0>\u001b[0m in \u001b[0;36mparseSetoPati\u001b[0;34m(category)\u001b[0m\n\u001b[1;32m     22\u001b[0m             \u001b[0;31m#Parse Links\u001b[0m\u001b[0;34m\u001b[0m\u001b[0;34m\u001b[0m\u001b[0m\n\u001b[1;32m     23\u001b[0m             \u001b[0;32mfor\u001b[0m \u001b[0mlink\u001b[0m \u001b[0;32min\u001b[0m \u001b[0mcurrent_links\u001b[0m\u001b[0;34m:\u001b[0m\u001b[0;34m\u001b[0m\u001b[0m\n\u001b[0;32m---> 24\u001b[0;31m                 \u001b[0mextract_and_save\u001b[0m\u001b[0;34m(\u001b[0m\u001b[0mlink\u001b[0m\u001b[0;34m,\u001b[0m\u001b[0mcategory\u001b[0m\u001b[0;34m)\u001b[0m\u001b[0;34m\u001b[0m\u001b[0m\n\u001b[0m\u001b[1;32m     25\u001b[0m         \u001b[0;32mexcept\u001b[0m \u001b[0mIndexError\u001b[0m\u001b[0;34m:\u001b[0m\u001b[0;34m\u001b[0m\u001b[0m\n\u001b[1;32m     26\u001b[0m             \u001b[0mprint\u001b[0m\u001b[0;34m(\u001b[0m\u001b[0;34m\"No more pages remaining to parse in this category\"\u001b[0m\u001b[0;34m)\u001b[0m\u001b[0;34m\u001b[0m\u001b[0m\n",
      "\u001b[0;32m<ipython-input-155-3e0b2caa6fc9>\u001b[0m in \u001b[0;36mextract_and_save\u001b[0;34m(link, category)\u001b[0m\n\u001b[1;32m      5\u001b[0m     \u001b[0mprint\u001b[0m\u001b[0;34m(\u001b[0m\u001b[0;34m[\u001b[0m\u001b[0mi\u001b[0m\u001b[0;34m.\u001b[0m\u001b[0mtext\u001b[0m \u001b[0;32mfor\u001b[0m \u001b[0mi\u001b[0m \u001b[0;32min\u001b[0m \u001b[0mnews_text\u001b[0m\u001b[0;34m.\u001b[0m\u001b[0mfind_all\u001b[0m\u001b[0;34m(\u001b[0m\u001b[0;34m'p'\u001b[0m\u001b[0;34m)\u001b[0m\u001b[0;34m]\u001b[0m\u001b[0;34m)\u001b[0m\u001b[0;34m\u001b[0m\u001b[0m\n\u001b[1;32m      6\u001b[0m     \u001b[0mfile_name\u001b[0m \u001b[0;34m=\u001b[0m \u001b[0mos\u001b[0m\u001b[0;34m.\u001b[0m\u001b[0mpath\u001b[0m\u001b[0;34m.\u001b[0m\u001b[0mjoin\u001b[0m\u001b[0;34m(\u001b[0m\u001b[0mcategory\u001b[0m\u001b[0;34m,\u001b[0m\u001b[0mre\u001b[0m\u001b[0;34m.\u001b[0m\u001b[0mfindall\u001b[0m\u001b[0;34m(\u001b[0m\u001b[0;34mr\"\\d+\"\u001b[0m\u001b[0;34m,\u001b[0m\u001b[0mlink\u001b[0m\u001b[0;34m)\u001b[0m\u001b[0;34m[\u001b[0m\u001b[0;36m0\u001b[0m\u001b[0;34m]\u001b[0m\u001b[0;34m)\u001b[0m\u001b[0;34m\u001b[0m\u001b[0m\n\u001b[0;32m----> 7\u001b[0;31m     \u001b[0;32mwith\u001b[0m \u001b[0mopen\u001b[0m\u001b[0;34m(\u001b[0m\u001b[0mfile_name\u001b[0m\u001b[0;34m)\u001b[0m \u001b[0;32mas\u001b[0m \u001b[0mfile\u001b[0m\u001b[0;34m:\u001b[0m\u001b[0;34m\u001b[0m\u001b[0m\n\u001b[0m\u001b[1;32m      8\u001b[0m         \u001b[0mfile\u001b[0m\u001b[0;34m.\u001b[0m\u001b[0mwriteline\u001b[0m\u001b[0;34m(\u001b[0m\u001b[0;34m[\u001b[0m\u001b[0mi\u001b[0m\u001b[0;34m.\u001b[0m\u001b[0mtext\u001b[0m \u001b[0;32mfor\u001b[0m \u001b[0mi\u001b[0m \u001b[0;32min\u001b[0m \u001b[0mnews_text\u001b[0m\u001b[0;34m.\u001b[0m\u001b[0mfind_all\u001b[0m\u001b[0;34m(\u001b[0m\u001b[0;34m'p'\u001b[0m\u001b[0;34m)\u001b[0m\u001b[0;34m]\u001b[0m\u001b[0;34m)\u001b[0m\u001b[0;34m\u001b[0m\u001b[0m\n",
      "\u001b[0;31mFileNotFoundError\u001b[0m: [Errno 2] No such file or directory: 'politics/158986'"
     ]
    }
   ],
   "source": [
    "for i in news:\n",
    "    parseSetoPati(i)"
   ]
  },
  {
   "cell_type": "code",
   "execution_count": null,
   "metadata": {},
   "outputs": [],
   "source": []
  },
  {
   "cell_type": "code",
   "execution_count": null,
   "metadata": {},
   "outputs": [],
   "source": []
  }
 ],
 "metadata": {
  "kernelspec": {
   "display_name": "Python 3",
   "language": "python",
   "name": "python3"
  },
  "language_info": {
   "codemirror_mode": {
    "name": "ipython",
    "version": 3
   },
   "file_extension": ".py",
   "mimetype": "text/x-python",
   "name": "python",
   "nbconvert_exporter": "python",
   "pygments_lexer": "ipython3",
   "version": "3.5.2"
  }
 },
 "nbformat": 4,
 "nbformat_minor": 2
}
